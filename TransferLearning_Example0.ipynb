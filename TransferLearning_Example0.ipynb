{
  "nbformat": 4,
  "nbformat_minor": 0,
  "metadata": {
    "colab": {
      "name": "TransferLearning_Example0.ipynb",
      "version": "0.3.2",
      "provenance": [],
      "include_colab_link": true
    },
    "kernelspec": {
      "name": "python3",
      "display_name": "Python 3"
    }
  },
  "cells": [
    {
      "cell_type": "markdown",
      "metadata": {
        "id": "view-in-github",
        "colab_type": "text"
      },
      "source": [
        "<a href=\"https://colab.research.google.com/github/sagihaider/Deep_Learning_Keras/blob/master/TransferLearning_Example0.ipynb\" target=\"_parent\"><img src=\"https://colab.research.google.com/assets/colab-badge.svg\" alt=\"Open In Colab\"/></a>"
      ]
    },
    {
      "metadata": {
        "id": "UKlJWyVlyFI1",
        "colab_type": "code",
        "colab": {
          "base_uri": "https://localhost:8080/",
          "height": 88
        },
        "outputId": "32791df0-33a5-4dd1-9828-59de82cd5a06"
      },
      "cell_type": "code",
      "source": [
        "import numpy as np\n",
        "from vgg16 import VGG16\n",
        "from resnet50 import ResNet50\n",
        "from keras.preprocessing import image\n",
        "from keras.applications.imagenet_utils import preprocess_input\n",
        "from imagenet_utils import decode_predictions\n",
        "\n",
        "model = VGG16(include_top=True, weights='imagenet')"
      ],
      "execution_count": 1,
      "outputs": [
        {
          "output_type": "stream",
          "text": [
            "Using TensorFlow backend.\n"
          ],
          "name": "stderr"
        },
        {
          "output_type": "stream",
          "text": [
            "Downloading data from https://github.com/fchollet/deep-learning-models/releases/download/v0.1/vgg16_weights_tf_dim_ordering_tf_kernels.h5\n",
            "552943616/553467096 [============================>.] - ETA: 0s"
          ],
          "name": "stdout"
        }
      ]
    },
    {
      "metadata": {
        "id": "DPMIVcM-ybOz",
        "colab_type": "code",
        "colab": {
          "base_uri": "https://localhost:8080/",
          "height": 71
        },
        "outputId": "33c1bdce-244f-4c43-e2ce-28b57ffd7d53"
      },
      "cell_type": "code",
      "source": [
        "img_path = 'elephant.jpg'\n",
        "img = image.load_img(img_path, target_size=(224, 224))\n",
        "x = image.img_to_array(img)\n",
        "x = np.expand_dims(x, axis=0)\n",
        "x = preprocess_input(x)\n",
        "print('Input image shape:', x.shape)\n",
        "\n",
        "preds = model.predict(x)\n",
        "print('Predicted:', decode_predictions(preds))\n"
      ],
      "execution_count": 3,
      "outputs": [
        {
          "output_type": "stream",
          "text": [
            "Input image shape: (1, 224, 224, 3)\n",
            "Predicted: [[('n01871265', 'tusker', 0.5118074), ('n02504013', 'Indian_elephant', 0.46694103), ('n02504458', 'African_elephant', 0.021248428), ('n02410509', 'bison', 1.1930625e-06), ('n02437312', 'Arabian_camel', 9.4727983e-07)]]\n"
          ],
          "name": "stdout"
        }
      ]
    },
    {
      "metadata": {
        "id": "iAowWKwiytP4",
        "colab_type": "code",
        "colab": {
          "base_uri": "https://localhost:8080/",
          "height": 1190
        },
        "outputId": "c8bce59e-e7ba-44e1-fa73-c1aa72830c2d"
      },
      "cell_type": "code",
      "source": [
        "model.summary()\n",
        "model.layers[-1].get_config()"
      ],
      "execution_count": 4,
      "outputs": [
        {
          "output_type": "stream",
          "text": [
            "_________________________________________________________________\n",
            "Layer (type)                 Output Shape              Param #   \n",
            "=================================================================\n",
            "input_1 (InputLayer)         (None, 224, 224, 3)       0         \n",
            "_________________________________________________________________\n",
            "block1_conv1 (Conv2D)        (None, 224, 224, 64)      1792      \n",
            "_________________________________________________________________\n",
            "block1_conv2 (Conv2D)        (None, 224, 224, 64)      36928     \n",
            "_________________________________________________________________\n",
            "block1_pool (MaxPooling2D)   (None, 112, 112, 64)      0         \n",
            "_________________________________________________________________\n",
            "block2_conv1 (Conv2D)        (None, 112, 112, 128)     73856     \n",
            "_________________________________________________________________\n",
            "block2_conv2 (Conv2D)        (None, 112, 112, 128)     147584    \n",
            "_________________________________________________________________\n",
            "block2_pool (MaxPooling2D)   (None, 56, 56, 128)       0         \n",
            "_________________________________________________________________\n",
            "block3_conv1 (Conv2D)        (None, 56, 56, 256)       295168    \n",
            "_________________________________________________________________\n",
            "block3_conv2 (Conv2D)        (None, 56, 56, 256)       590080    \n",
            "_________________________________________________________________\n",
            "block3_conv3 (Conv2D)        (None, 56, 56, 256)       590080    \n",
            "_________________________________________________________________\n",
            "block3_pool (MaxPooling2D)   (None, 28, 28, 256)       0         \n",
            "_________________________________________________________________\n",
            "block4_conv1 (Conv2D)        (None, 28, 28, 512)       1180160   \n",
            "_________________________________________________________________\n",
            "block4_conv2 (Conv2D)        (None, 28, 28, 512)       2359808   \n",
            "_________________________________________________________________\n",
            "block4_conv3 (Conv2D)        (None, 28, 28, 512)       2359808   \n",
            "_________________________________________________________________\n",
            "block4_pool (MaxPooling2D)   (None, 14, 14, 512)       0         \n",
            "_________________________________________________________________\n",
            "block5_conv1 (Conv2D)        (None, 14, 14, 512)       2359808   \n",
            "_________________________________________________________________\n",
            "block5_conv2 (Conv2D)        (None, 14, 14, 512)       2359808   \n",
            "_________________________________________________________________\n",
            "block5_conv3 (Conv2D)        (None, 14, 14, 512)       2359808   \n",
            "_________________________________________________________________\n",
            "block5_pool (MaxPooling2D)   (None, 7, 7, 512)         0         \n",
            "_________________________________________________________________\n",
            "flatten (Flatten)            (None, 25088)             0         \n",
            "_________________________________________________________________\n",
            "fc1 (Dense)                  (None, 4096)              102764544 \n",
            "_________________________________________________________________\n",
            "fc2 (Dense)                  (None, 4096)              16781312  \n",
            "_________________________________________________________________\n",
            "predictions (Dense)          (None, 1000)              4097000   \n",
            "=================================================================\n",
            "Total params: 138,357,544\n",
            "Trainable params: 138,357,544\n",
            "Non-trainable params: 0\n",
            "_________________________________________________________________\n"
          ],
          "name": "stdout"
        },
        {
          "output_type": "execute_result",
          "data": {
            "text/plain": [
              "{'activation': 'softmax',\n",
              " 'activity_regularizer': None,\n",
              " 'bias_constraint': None,\n",
              " 'bias_initializer': {'class_name': 'Zeros', 'config': {}},\n",
              " 'bias_regularizer': None,\n",
              " 'kernel_constraint': None,\n",
              " 'kernel_initializer': {'class_name': 'VarianceScaling',\n",
              "  'config': {'distribution': 'uniform',\n",
              "   'mode': 'fan_avg',\n",
              "   'scale': 1.0,\n",
              "   'seed': None}},\n",
              " 'kernel_regularizer': None,\n",
              " 'name': 'predictions',\n",
              " 'trainable': True,\n",
              " 'units': 1000,\n",
              " 'use_bias': True}"
            ]
          },
          "metadata": {
            "tags": []
          },
          "execution_count": 4
        }
      ]
    },
    {
      "metadata": {
        "id": "X3Wa5L6by379",
        "colab_type": "code",
        "colab": {
          "base_uri": "https://localhost:8080/",
          "height": 2227
        },
        "outputId": "fa398462-c6d6-4eab-adb9-1644ec4a8769"
      },
      "cell_type": "code",
      "source": [
        "model = VGG16(weights='imagenet', include_top=False)\n",
        "\n",
        "model.summary()\n",
        "model.layers[-1].get_config()\n",
        "\n",
        "img_path = 'elephant.jpg'\n",
        "img = image.load_img(img_path, target_size=(224, 224))\n",
        "x = image.img_to_array(img)\n",
        "x = np.expand_dims(x, axis=0)\n",
        "x = preprocess_input(x)\n",
        "\n",
        "features = model.predict(x)\n",
        "print(features)"
      ],
      "execution_count": 6,
      "outputs": [
        {
          "output_type": "stream",
          "text": [
            "_________________________________________________________________\n",
            "Layer (type)                 Output Shape              Param #   \n",
            "=================================================================\n",
            "input_3 (InputLayer)         (None, None, None, 3)     0         \n",
            "_________________________________________________________________\n",
            "block1_conv1 (Conv2D)        (None, None, None, 64)    1792      \n",
            "_________________________________________________________________\n",
            "block1_conv2 (Conv2D)        (None, None, None, 64)    36928     \n",
            "_________________________________________________________________\n",
            "block1_pool (MaxPooling2D)   (None, None, None, 64)    0         \n",
            "_________________________________________________________________\n",
            "block2_conv1 (Conv2D)        (None, None, None, 128)   73856     \n",
            "_________________________________________________________________\n",
            "block2_conv2 (Conv2D)        (None, None, None, 128)   147584    \n",
            "_________________________________________________________________\n",
            "block2_pool (MaxPooling2D)   (None, None, None, 128)   0         \n",
            "_________________________________________________________________\n",
            "block3_conv1 (Conv2D)        (None, None, None, 256)   295168    \n",
            "_________________________________________________________________\n",
            "block3_conv2 (Conv2D)        (None, None, None, 256)   590080    \n",
            "_________________________________________________________________\n",
            "block3_conv3 (Conv2D)        (None, None, None, 256)   590080    \n",
            "_________________________________________________________________\n",
            "block3_pool (MaxPooling2D)   (None, None, None, 256)   0         \n",
            "_________________________________________________________________\n",
            "block4_conv1 (Conv2D)        (None, None, None, 512)   1180160   \n",
            "_________________________________________________________________\n",
            "block4_conv2 (Conv2D)        (None, None, None, 512)   2359808   \n",
            "_________________________________________________________________\n",
            "block4_conv3 (Conv2D)        (None, None, None, 512)   2359808   \n",
            "_________________________________________________________________\n",
            "block4_pool (MaxPooling2D)   (None, None, None, 512)   0         \n",
            "_________________________________________________________________\n",
            "block5_conv1 (Conv2D)        (None, None, None, 512)   2359808   \n",
            "_________________________________________________________________\n",
            "block5_conv2 (Conv2D)        (None, None, None, 512)   2359808   \n",
            "_________________________________________________________________\n",
            "block5_conv3 (Conv2D)        (None, None, None, 512)   2359808   \n",
            "_________________________________________________________________\n",
            "block5_pool (MaxPooling2D)   (None, None, None, 512)   0         \n",
            "=================================================================\n",
            "Total params: 14,714,688\n",
            "Trainable params: 14,714,688\n",
            "Non-trainable params: 0\n",
            "_________________________________________________________________\n",
            "[[[[ 0.         0.         0.        ...  0.         0.\n",
            "     0.       ]\n",
            "   [ 0.         0.         0.        ...  0.         0.\n",
            "     0.       ]\n",
            "   [ 0.         0.        11.357313  ...  0.         0.\n",
            "     0.       ]\n",
            "   ...\n",
            "   [ 0.         0.         0.        ...  0.         0.\n",
            "     0.       ]\n",
            "   [ 0.         0.         0.        ...  0.         0.\n",
            "     0.       ]\n",
            "   [ 0.         0.         0.        ...  0.         2.653049\n",
            "     0.       ]]\n",
            "\n",
            "  [[ 0.         0.         0.        ...  0.         0.\n",
            "     0.       ]\n",
            "   [ 0.         0.         0.        ...  0.         0.\n",
            "     0.       ]\n",
            "   [ 0.         0.        37.286213  ...  0.         0.\n",
            "     0.       ]\n",
            "   ...\n",
            "   [ 0.         0.         0.        ...  0.         0.\n",
            "     0.       ]\n",
            "   [ 0.        14.753265   0.        ...  0.         0.\n",
            "     0.       ]\n",
            "   [ 0.         0.         0.        ...  0.         0.\n",
            "     0.       ]]\n",
            "\n",
            "  [[ 0.         0.         0.        ...  0.         0.\n",
            "     0.       ]\n",
            "   [ 0.         0.         7.082036  ...  0.         1.0103104\n",
            "     0.       ]\n",
            "   [ 0.         0.        52.962257  ... 40.50025    0.\n",
            "     0.       ]\n",
            "   ...\n",
            "   [ 0.         0.         0.        ...  0.         0.\n",
            "    22.82658  ]\n",
            "   [ 0.         0.         0.        ...  0.         0.\n",
            "     0.       ]\n",
            "   [ 0.         0.         0.        ...  0.         0.\n",
            "     0.       ]]\n",
            "\n",
            "  ...\n",
            "\n",
            "  [[ 0.         0.         0.        ...  0.         0.\n",
            "     0.       ]\n",
            "   [ 0.         0.         0.        ...  0.        10.402274\n",
            "     0.       ]\n",
            "   [ 0.         0.         0.        ...  0.         0.\n",
            "     0.       ]\n",
            "   ...\n",
            "   [ 0.         0.        36.449146  ...  1.9116458  0.\n",
            "     0.       ]\n",
            "   [ 0.         0.         8.990906  ...  0.         0.\n",
            "     1.9046475]\n",
            "   [ 0.         0.         0.        ...  0.         0.\n",
            "     0.       ]]\n",
            "\n",
            "  [[ 0.         0.         0.        ...  0.         0.\n",
            "     0.       ]\n",
            "   [ 0.         0.         0.        ...  0.         7.746746\n",
            "     0.       ]\n",
            "   [ 0.         0.         0.        ...  0.         0.\n",
            "     0.       ]\n",
            "   ...\n",
            "   [ 0.         0.        14.181464  ...  0.5111969  0.\n",
            "     0.       ]\n",
            "   [ 0.         0.         4.3319335 ...  0.         0.\n",
            "     0.       ]\n",
            "   [ 0.         0.         0.        ...  0.         0.\n",
            "     0.       ]]\n",
            "\n",
            "  [[ 0.         0.         0.        ...  0.         0.\n",
            "     0.       ]\n",
            "   [ 0.         0.         0.        ...  0.         0.\n",
            "     0.       ]\n",
            "   [ 0.         0.         0.        ...  0.         0.\n",
            "     0.       ]\n",
            "   ...\n",
            "   [ 0.         0.         0.        ...  0.         0.\n",
            "     0.       ]\n",
            "   [ 0.         0.         0.        ...  0.         0.\n",
            "     0.       ]\n",
            "   [ 0.         0.         0.        ...  0.         0.\n",
            "     0.       ]]]]\n"
          ],
          "name": "stdout"
        }
      ]
    }
  ]
}